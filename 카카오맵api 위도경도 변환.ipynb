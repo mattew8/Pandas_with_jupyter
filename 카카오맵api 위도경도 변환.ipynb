{
 "cells": [
  {
   "cell_type": "code",
   "execution_count": 129,
   "metadata": {},
   "outputs": [],
   "source": [
    "# import json as json\n",
    "# import pandas as pd\n",
    "# import requests as requests\n",
    "# def getLatLng(address):\n",
    "#     url = 'https://dapi.kakao.com/v2/local/search/address.json?query=' + address\n",
    "#     headers = {\"Authorization\": \"KakaoAK 073a393656181c6073880062d3507191\"}\n",
    "#     result = json.loads(str(requests.get(url, headers=headers).text))\n",
    "#     match_first = result['documents'][0]['address']\n",
    "#     return float(match_first['y']), float(match_first['x'])\n",
    "# getLatLng('부산 사직동')"
   ]
  },
  {
   "cell_type": "code",
   "execution_count": 5,
   "metadata": {},
   "outputs": [],
   "source": [
    "import requests; from urllib.parse import urlparse\n",
    "import pandas as pd\n",
    "import geopandas\n",
    "# 필요한 module다운받기 -> geopandas가 import되지 않는다면? 직접 anaconda prompt에서 설치해야한다\n",
    "# conda install -c conda-forge geopandas (근데 설치시간이 드릅게 오래 걸린다!)"
   ]
  },
  {
   "cell_type": "code",
   "execution_count": 128,
   "metadata": {},
   "outputs": [
    {
     "name": "stdout",
     "output_type": "stream",
     "text": [
      "{'documents': [{'address': {'address_name': '강원 원주시 명륜동 242-2', 'b_code': '4213010600', 'h_code': '4213054100', 'main_address_no': '242', 'mountain_yn': 'N', 'region_1depth_name': '강원', 'region_2depth_name': '원주시', 'region_3depth_h_name': '명륜1동', 'region_3depth_name': '명륜동', 'sub_address_no': '2', 'x': '127.94774501944', 'y': '37.3369873534915'}, 'address_name': '강원 원주시 단구로 171', 'address_type': 'ROAD_ADDR', 'road_address': {'address_name': '강원 원주시 단구로 171', 'building_name': '국립공원연구원', 'main_building_no': '171', 'region_1depth_name': '강원', 'region_2depth_name': '원주시', 'region_3depth_name': '명륜동', 'road_name': '단구로', 'sub_building_no': '', 'underground_yn': 'N', 'x': '127.94774501944', 'y': '37.3369873534915', 'zone_no': '26441'}, 'x': '127.94774501944', 'y': '37.3369873534915'}], 'meta': {'is_end': True, 'pageable_count': 1, 'total_count': 1}}\n"
     ]
    }
   ],
   "source": [
    "address = \"강원 원주시 단구로 171\"\n",
    "url = \"https://dapi.kakao.com/v2/local/search/address.json?query=\" + address\n",
    "# 카카오맵 주소검색 url에다 address를 붙여 요청\n",
    "result = requests.get(urlparse(url).geturl(),\n",
    "                      headers={\"Authorization\": \"KakaoAK 073a393656181c6073880062d3507191\"})\n",
    "json_obj = result.json()\n",
    "print(json_obj)\n",
    "# 요청시 나온 결과(result)를 json으로 담아서 print해본 것.\n",
    "# json으로 담는게 (json_obj = result.json() <- 이 행위) 뭘까????? \n",
    "# 그냥 result만 print하면 <Response [200]> 가 뜨고 만다. 띠요용\n",
    "# 카카오맵 document에 있는 녀석들이 몽땅 나온다. 얘네들은 각 index안에 값이 담긴 list형태다"
   ]
  },
  {
   "cell_type": "code",
   "execution_count": 130,
   "metadata": {},
   "outputs": [
    {
     "data": {
      "text/html": [
       "<div>\n",
       "<style scoped>\n",
       "    .dataframe tbody tr th:only-of-type {\n",
       "        vertical-align: middle;\n",
       "    }\n",
       "\n",
       "    .dataframe tbody tr th {\n",
       "        vertical-align: top;\n",
       "    }\n",
       "\n",
       "    .dataframe thead th {\n",
       "        text-align: right;\n",
       "    }\n",
       "</style>\n",
       "<table border=\"1\" class=\"dataframe\">\n",
       "  <thead>\n",
       "    <tr style=\"text-align: right;\">\n",
       "      <th></th>\n",
       "      <th>building_name</th>\n",
       "      <th>address_name</th>\n",
       "      <th>lat</th>\n",
       "      <th>lon</th>\n",
       "    </tr>\n",
       "  </thead>\n",
       "  <tbody>\n",
       "    <tr>\n",
       "      <th>0</th>\n",
       "      <td>국립공원연구원</td>\n",
       "      <td>강원 원주시 단구로 171</td>\n",
       "      <td>37.3369873534915</td>\n",
       "      <td>127.94774501944</td>\n",
       "    </tr>\n",
       "  </tbody>\n",
       "</table>\n",
       "</div>"
      ],
      "text/plain": [
       "  building_name    address_name               lat              lon\n",
       "0       국립공원연구원  강원 원주시 단구로 171  37.3369873534915  127.94774501944"
      ]
     },
     "execution_count": 130,
     "metadata": {},
     "output_type": "execute_result"
    }
   ],
   "source": [
    "list = []\n",
    "for document in json_obj['documents']:\n",
    "    val = [document['road_address']['building_name'], document['address_name'], document['y'], document['x']]\n",
    "    list.append(val)\n",
    "df = pd.DataFrame(list, columns=['building_name', 'address_name','lat','lon'])\n",
    "df\n",
    "# 나온 결과들 중 필요한 녀석들('address_name','x','y')을 잡아 list형태로 만들어 DataFrame안에 넣어주자!"
   ]
  },
  {
   "cell_type": "code",
   "execution_count": 136,
   "metadata": {},
   "outputs": [
    {
     "data": {
      "text/html": [
       "<div>\n",
       "<style scoped>\n",
       "    .dataframe tbody tr th:only-of-type {\n",
       "        vertical-align: middle;\n",
       "    }\n",
       "\n",
       "    .dataframe tbody tr th {\n",
       "        vertical-align: top;\n",
       "    }\n",
       "\n",
       "    .dataframe thead th {\n",
       "        text-align: right;\n",
       "    }\n",
       "</style>\n",
       "<table border=\"1\" class=\"dataframe\">\n",
       "  <thead>\n",
       "    <tr style=\"text-align: right;\">\n",
       "      <th></th>\n",
       "      <th>주소</th>\n",
       "    </tr>\n",
       "  </thead>\n",
       "  <tbody>\n",
       "    <tr>\n",
       "      <th>0</th>\n",
       "      <td>서울 강남구 선릉로 836 삼원빌딩 1~2층</td>\n",
       "    </tr>\n",
       "    <tr>\n",
       "      <th>1</th>\n",
       "      <td>서울 동작구 보라매로5길 43 삼성쉐르빌 1층</td>\n",
       "    </tr>\n",
       "    <tr>\n",
       "      <th>2</th>\n",
       "      <td>서울 영등포구 여의대방로65길 24 호성빌딩1층</td>\n",
       "    </tr>\n",
       "  </tbody>\n",
       "</table>\n",
       "</div>"
      ],
      "text/plain": [
       "                           주소\n",
       "0    서울 강남구 선릉로 836 삼원빌딩 1~2층\n",
       "1   서울 동작구 보라매로5길 43 삼성쉐르빌 1층\n",
       "2  서울 영등포구 여의대방로65길 24 호성빌딩1층"
      ]
     },
     "execution_count": 136,
     "metadata": {},
     "output_type": "execute_result"
    }
   ],
   "source": [
    "df = pd.read_excel('주소 시험용.xlsx', sheet_name='Sheet1')\n",
    "df "
   ]
  },
  {
   "cell_type": "code",
   "execution_count": 134,
   "metadata": {},
   "outputs": [],
   "source": [
    "def address_to_latlon(address):\n",
    "    url = \"https://dapi.kakao.com/v2/local/search/address.json?query=\" + address\n",
    "    result = requests.get(urlparse(url).geturl(),\n",
    "                      headers={\"Authorization\": \"KakaoAK 073a393656181c6073880062d3507191\"})\n",
    "    json_obj = result.json()\n",
    "    for document in json_obj['documents']:\n",
    "        val = [document['address_name'], document['y'],document['x']]\n",
    "    return val\n",
    "\n",
    "#위의 두 녀석들을 합쳐 address가 입력되면 address_name, y, x를 반환하는 함수로 만들자."
   ]
  },
  {
   "cell_type": "code",
   "execution_count": 132,
   "metadata": {},
   "outputs": [
    {
     "data": {
      "text/plain": [
       "['서울 동작구 보라매로5길 43', '37.4914310798968', '126.923417000996']"
      ]
     },
     "execution_count": 132,
     "metadata": {},
     "output_type": "execute_result"
    }
   ],
   "source": [
    "address_to_latlon(\"서울 동작구 보라매로5길 43\")\n",
    "# 성공! 이면 정말 좋겠지만 ............."
   ]
  },
  {
   "cell_type": "code",
   "execution_count": 137,
   "metadata": {
    "scrolled": true
   },
   "outputs": [
    {
     "data": {
      "text/html": [
       "<div>\n",
       "<style scoped>\n",
       "    .dataframe tbody tr th:only-of-type {\n",
       "        vertical-align: middle;\n",
       "    }\n",
       "\n",
       "    .dataframe tbody tr th {\n",
       "        vertical-align: top;\n",
       "    }\n",
       "\n",
       "    .dataframe thead th {\n",
       "        text-align: right;\n",
       "    }\n",
       "</style>\n",
       "<table border=\"1\" class=\"dataframe\">\n",
       "  <thead>\n",
       "    <tr style=\"text-align: right;\">\n",
       "      <th></th>\n",
       "      <th>address_name</th>\n",
       "      <th>lat</th>\n",
       "      <th>lon</th>\n",
       "    </tr>\n",
       "  </thead>\n",
       "  <tbody>\n",
       "    <tr>\n",
       "      <th>0</th>\n",
       "      <td>서울 강남구 선릉로 836</td>\n",
       "      <td>37.5265428105713</td>\n",
       "      <td>127.040533570867</td>\n",
       "    </tr>\n",
       "    <tr>\n",
       "      <th>1</th>\n",
       "      <td>서울 동작구 보라매로5길 43</td>\n",
       "      <td>37.4914310798968</td>\n",
       "      <td>126.923417000996</td>\n",
       "    </tr>\n",
       "    <tr>\n",
       "      <th>2</th>\n",
       "      <td>서울 영등포구 여의대방로65길 24</td>\n",
       "      <td>37.5204421498979</td>\n",
       "      <td>126.929293717613</td>\n",
       "    </tr>\n",
       "  </tbody>\n",
       "</table>\n",
       "</div>"
      ],
      "text/plain": [
       "          address_name               lat               lon\n",
       "0       서울 강남구 선릉로 836  37.5265428105713  127.040533570867\n",
       "1     서울 동작구 보라매로5길 43  37.4914310798968  126.923417000996\n",
       "2  서울 영등포구 여의대방로65길 24  37.5204421498979  126.929293717613"
      ]
     },
     "execution_count": 137,
     "metadata": {},
     "output_type": "execute_result"
    }
   ],
   "source": [
    "list = []\n",
    "for address in df['주소']:\n",
    "    list.append(address_to_latlon(address))\n",
    "    \n",
    "df1 = pd.DataFrame(list, columns = ['address_name', 'lat', 'lon'])\n",
    "df1.head()\n",
    "# 받아온 엑셀파일(df) 속 '주소' column들을 for문으로 함수에 쏙쏙."
   ]
  }
 ],
 "metadata": {
  "kernelspec": {
   "display_name": "Python 3",
   "language": "python",
   "name": "python3"
  },
  "language_info": {
   "codemirror_mode": {
    "name": "ipython",
    "version": 3
   },
   "file_extension": ".py",
   "mimetype": "text/x-python",
   "name": "python",
   "nbconvert_exporter": "python",
   "pygments_lexer": "ipython3",
   "version": "3.8.5"
  }
 },
 "nbformat": 4,
 "nbformat_minor": 4
}
