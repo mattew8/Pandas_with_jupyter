{
 "cells": [
  {
   "cell_type": "code",
   "execution_count": 1,
   "metadata": {},
   "outputs": [],
   "source": [
    "# import json as json\n",
    "# import pandas as pd\n",
    "# import requests as requests\n",
    "# def getLatLng(address):\n",
    "#     url = 'https://dapi.kakao.com/v2/local/search/address.json?query=' + address\n",
    "#     headers = {\"Authorization\": \"KakaoAK 073a393656181c6073880062d3507191\"}\n",
    "#     result = json.loads(str(requests.get(url, headers=headers).text))\n",
    "#     match_first = result['documents'][0]['address']\n",
    "#     return float(match_first['y']), float(match_first['x'])\n",
    "# getLatLng('부산 사직동')"
   ]
  },
  {
   "cell_type": "code",
   "execution_count": 2,
   "metadata": {},
   "outputs": [],
   "source": [
    "import requests; from urllib.parse import urlparse\n",
    "import pandas as pd\n",
    "import geopandas\n",
    "# 필요한 module다운받기 -> geopandas가 import되지 않는다면? 직접 anaconda prompt에서 설치해야한다\n",
    "# conda install -c conda-forge geopandas (근데 설치시간이 드릅게 오래 걸린다!)"
   ]
  },
  {
   "cell_type": "code",
   "execution_count": 3,
   "metadata": {},
   "outputs": [
    {
     "name": "stdout",
     "output_type": "stream",
     "text": [
      "{'documents': [{'address': {'address_name': '부산 동래구 사직동 26-9', 'b_code': '2626010900', 'h_code': '2626059000', 'main_address_no': '26', 'mountain_yn': 'N', 'region_1depth_name': '부산', 'region_2depth_name': '동래구', 'region_3depth_h_name': '사직2동', 'region_3depth_name': '사직동', 'sub_address_no': '9', 'x': '129.059764973464', 'y': '35.1990136794377'}, 'address_name': '부산 동래구 사직동 26-9', 'address_type': 'REGION_ADDR', 'road_address': {'address_name': '부산 동래구 사직북로 35', 'building_name': '', 'main_building_no': '35', 'region_1depth_name': '부산', 'region_2depth_name': '동래구', 'region_3depth_name': '사직동', 'road_name': '사직북로', 'sub_building_no': '', 'underground_yn': 'N', 'x': '129.059802648053', 'y': '35.1990317823955', 'zone_no': '47860'}, 'x': '129.059764973464', 'y': '35.1990136794377'}], 'meta': {'is_end': True, 'pageable_count': 1, 'total_count': 1}}\n"
     ]
    }
   ],
   "source": [
    "address = \"부산광역시 동래구 사직동 26-9번지\"\n",
    "url = \"https://dapi.kakao.com/v2/local/search/address.json?query=\" + address\n",
    "# 카카오맵 주소검색 url에다 address를 붙여 요청\n",
    "result = requests.get(urlparse(url).geturl(),\n",
    "                      headers={\"Authorization\": \"KakaoAK 073a393656181c6073880062d3507191\"})\n",
    "json_obj = result.json()\n",
    "print(json_obj)\n",
    "# 요청시 나온 결과(result)를 json으로 담아서 print해본 것.\n",
    "# json으로 담는게 (json_obj = result.json() <- 이 행위) 뭘까????? \n",
    "# 그냥 result만 print하면 <Response [200]> 가 뜨고 만다. 띠요용\n",
    "# 카카오맵 document에 있는 녀석들이 몽땅 나온다. 얘네들은 각 index안에 값이 담긴 list형태다"
   ]
  },
  {
   "cell_type": "code",
   "execution_count": 4,
   "metadata": {},
   "outputs": [
    {
     "data": {
      "text/html": [
       "<div>\n",
       "<style scoped>\n",
       "    .dataframe tbody tr th:only-of-type {\n",
       "        vertical-align: middle;\n",
       "    }\n",
       "\n",
       "    .dataframe tbody tr th {\n",
       "        vertical-align: top;\n",
       "    }\n",
       "\n",
       "    .dataframe thead th {\n",
       "        text-align: right;\n",
       "    }\n",
       "</style>\n",
       "<table border=\"1\" class=\"dataframe\">\n",
       "  <thead>\n",
       "    <tr style=\"text-align: right;\">\n",
       "      <th></th>\n",
       "      <th>building_name</th>\n",
       "      <th>address_name</th>\n",
       "      <th>lat</th>\n",
       "      <th>lon</th>\n",
       "    </tr>\n",
       "  </thead>\n",
       "  <tbody>\n",
       "    <tr>\n",
       "      <th>0</th>\n",
       "      <td></td>\n",
       "      <td>부산 동래구 사직동 26-9</td>\n",
       "      <td>35.1990136794377</td>\n",
       "      <td>129.059764973464</td>\n",
       "    </tr>\n",
       "  </tbody>\n",
       "</table>\n",
       "</div>"
      ],
      "text/plain": [
       "  building_name     address_name               lat               lon\n",
       "0                부산 동래구 사직동 26-9  35.1990136794377  129.059764973464"
      ]
     },
     "execution_count": 4,
     "metadata": {},
     "output_type": "execute_result"
    }
   ],
   "source": [
    "list = []\n",
    "for document in json_obj['documents']:\n",
    "    val = [document['road_address']['building_name'], document['address_name'], document['y'], document['x']]\n",
    "    list.append(val)\n",
    "df = pd.DataFrame(list, columns=['building_name', 'address_name','lat','lon'])\n",
    "df\n",
    "# 나온 결과들 중 필요한 녀석들('address_name','x','y')을 잡아 list형태로 만들어 DataFrame안에 넣어주자!"
   ]
  },
  {
   "cell_type": "code",
   "execution_count": 108,
   "metadata": {},
   "outputs": [
    {
     "data": {
      "text/html": [
       "<div>\n",
       "<style scoped>\n",
       "    .dataframe tbody tr th:only-of-type {\n",
       "        vertical-align: middle;\n",
       "    }\n",
       "\n",
       "    .dataframe tbody tr th {\n",
       "        vertical-align: top;\n",
       "    }\n",
       "\n",
       "    .dataframe thead th {\n",
       "        text-align: right;\n",
       "    }\n",
       "</style>\n",
       "<table border=\"1\" class=\"dataframe\">\n",
       "  <thead>\n",
       "    <tr style=\"text-align: right;\">\n",
       "      <th></th>\n",
       "      <th>Unnamed: 0</th>\n",
       "      <th>Unnamed: 1</th>\n",
       "      <th>location</th>\n",
       "    </tr>\n",
       "  </thead>\n",
       "  <tbody>\n",
       "    <tr>\n",
       "      <th>0</th>\n",
       "      <td>황금성</td>\n",
       "      <td>051-505-8333</td>\n",
       "      <td>부산 동래구 중앙대로1277번길 124</td>\n",
       "    </tr>\n",
       "    <tr>\n",
       "      <th>1</th>\n",
       "      <td>동천홍</td>\n",
       "      <td>051-502-1240</td>\n",
       "      <td>부산 동래구 온천장로 1-1\\n\\n 온천동 473-12</td>\n",
       "    </tr>\n",
       "    <tr>\n",
       "      <th>2</th>\n",
       "      <td>아서원</td>\n",
       "      <td>010 85516716</td>\n",
       "      <td>부산 동래구 명장1동 명안로46번마길 15 15</td>\n",
       "    </tr>\n",
       "    <tr>\n",
       "      <th>3</th>\n",
       "      <td>평산옥</td>\n",
       "      <td>051-468-6255</td>\n",
       "      <td>부산 동구 초량중로 26</td>\n",
       "    </tr>\n",
       "    <tr>\n",
       "      <th>4</th>\n",
       "      <td>가덕도청솔식당</td>\n",
       "      <td>051-264-3454</td>\n",
       "      <td>부산 강서구 가덕해안로773번길 166</td>\n",
       "    </tr>\n",
       "    <tr>\n",
       "      <th>...</th>\n",
       "      <td>...</td>\n",
       "      <td>...</td>\n",
       "      <td>...</td>\n",
       "    </tr>\n",
       "    <tr>\n",
       "      <th>208</th>\n",
       "      <td>와분식</td>\n",
       "      <td>051-343-0203</td>\n",
       "      <td>부산광역시 북구 상리로 27 109호</td>\n",
       "    </tr>\n",
       "    <tr>\n",
       "      <th>209</th>\n",
       "      <td>해동반점</td>\n",
       "      <td>051-416-2250</td>\n",
       "      <td>부산 영도구 절영로 151</td>\n",
       "    </tr>\n",
       "    <tr>\n",
       "      <th>210</th>\n",
       "      <td>꽃곰탕</td>\n",
       "      <td>0507-1307-0919</td>\n",
       "      <td>부산광역시 동구 중앙대로361번길 37 1층</td>\n",
       "    </tr>\n",
       "    <tr>\n",
       "      <th>211</th>\n",
       "      <td>빈스킹토스트 부산진역점</td>\n",
       "      <td>051-442-7007</td>\n",
       "      <td>부산 동구 중앙대로371번길 9 1층\\n\\n 수정동 3-3</td>\n",
       "    </tr>\n",
       "    <tr>\n",
       "      <th>212</th>\n",
       "      <td>우량</td>\n",
       "      <td>051-468-0999</td>\n",
       "      <td>부산 동구 중앙대로371번길 25</td>\n",
       "    </tr>\n",
       "  </tbody>\n",
       "</table>\n",
       "<p>213 rows × 3 columns</p>\n",
       "</div>"
      ],
      "text/plain": [
       "       Unnamed: 0      Unnamed: 1                          location\n",
       "0             황금성    051-505-8333             부산 동래구 중앙대로1277번길 124\n",
       "1             동천홍    051-502-1240    부산 동래구 온천장로 1-1\\n\\n 온천동 473-12\n",
       "2             아서원    010 85516716        부산 동래구 명장1동 명안로46번마길 15 15\n",
       "3             평산옥    051-468-6255                     부산 동구 초량중로 26\n",
       "4         가덕도청솔식당    051-264-3454             부산 강서구 가덕해안로773번길 166\n",
       "..            ...             ...                               ...\n",
       "208           와분식    051-343-0203              부산광역시 북구 상리로 27 109호\n",
       "209          해동반점    051-416-2250                    부산 영도구 절영로 151\n",
       "210           꽃곰탕  0507-1307-0919          부산광역시 동구 중앙대로361번길 37 1층\n",
       "211  빈스킹토스트 부산진역점    051-442-7007  부산 동구 중앙대로371번길 9 1층\\n\\n 수정동 3-3\n",
       "212            우량    051-468-0999                부산 동구 중앙대로371번길 25\n",
       "\n",
       "[213 rows x 3 columns]"
      ]
     },
     "execution_count": 108,
     "metadata": {},
     "output_type": "execute_result"
    }
   ],
   "source": [
    "df = pd.read_excel('가맹점 위도경도 실패2.xlsx', sheet_name='Sheet1')\n",
    "df"
   ]
  },
  {
   "cell_type": "code",
   "execution_count": 16,
   "metadata": {},
   "outputs": [],
   "source": [
    "def address_to_latlon(address):\n",
    "    url = \"https://dapi.kakao.com/v2/local/search/address.json?query=\" + address\n",
    "    result = requests.get(urlparse(url).geturl(),\n",
    "                      headers={\"Authorization\": \"KakaoAK 073a393656181c6073880062d3507191\"})\n",
    "    json_obj = result.json()\n",
    "    for document in json_obj['documents']:\n",
    "        val = [document['address_name'], document['y'],document['x']]\n",
    "    return val\n",
    "\n",
    "#위의 두 녀석들을 합쳐 address가 입력되면 address_name, y, x를 반환하는 함수로 만들자."
   ]
  },
  {
   "cell_type": "code",
   "execution_count": 114,
   "metadata": {
    "scrolled": true
   },
   "outputs": [
    {
     "data": {
      "text/plain": [
       "['부산 북구 금곡대로285번길 19', '35.2337717376099', '129.012324342859']"
      ]
     },
     "execution_count": 114,
     "metadata": {},
     "output_type": "execute_result"
    }
   ],
   "source": [
    "address_to_latlon(\"부산 북구 금곡대로285번길 19 리버사이드빌딩 1층 101,102,201호\")"
   ]
  },
  {
   "cell_type": "code",
   "execution_count": 109,
   "metadata": {
    "scrolled": false
   },
   "outputs": [
    {
     "ename": "UnboundLocalError",
     "evalue": "local variable 'val' referenced before assignment",
     "output_type": "error",
     "traceback": [
      "\u001b[1;31m---------------------------------------------------------------------------\u001b[0m",
      "\u001b[1;31mUnboundLocalError\u001b[0m                         Traceback (most recent call last)",
      "\u001b[1;32m<ipython-input-109-32995afb532b>\u001b[0m in \u001b[0;36m<module>\u001b[1;34m\u001b[0m\n\u001b[0;32m      1\u001b[0m \u001b[0mlist\u001b[0m \u001b[1;33m=\u001b[0m \u001b[1;33m[\u001b[0m\u001b[1;33m]\u001b[0m\u001b[1;33m\u001b[0m\u001b[1;33m\u001b[0m\u001b[0m\n\u001b[0;32m      2\u001b[0m \u001b[1;32mfor\u001b[0m \u001b[0maddress\u001b[0m \u001b[1;32min\u001b[0m \u001b[0mdf\u001b[0m\u001b[1;33m[\u001b[0m\u001b[1;34m'location'\u001b[0m\u001b[1;33m]\u001b[0m\u001b[1;33m:\u001b[0m\u001b[1;33m\u001b[0m\u001b[1;33m\u001b[0m\u001b[0m\n\u001b[1;32m----> 3\u001b[1;33m     \u001b[0mlist\u001b[0m\u001b[1;33m.\u001b[0m\u001b[0mappend\u001b[0m\u001b[1;33m(\u001b[0m\u001b[0maddress_to_latlon\u001b[0m\u001b[1;33m(\u001b[0m\u001b[0maddress\u001b[0m\u001b[1;33m)\u001b[0m\u001b[1;33m)\u001b[0m\u001b[1;33m\u001b[0m\u001b[1;33m\u001b[0m\u001b[0m\n\u001b[0m\u001b[0;32m      4\u001b[0m \u001b[1;33m\u001b[0m\u001b[0m\n\u001b[0;32m      5\u001b[0m \u001b[0mdf1\u001b[0m \u001b[1;33m=\u001b[0m \u001b[0mpd\u001b[0m\u001b[1;33m.\u001b[0m\u001b[0mDataFrame\u001b[0m\u001b[1;33m(\u001b[0m\u001b[0mlist\u001b[0m\u001b[1;33m,\u001b[0m \u001b[0mcolumns\u001b[0m \u001b[1;33m=\u001b[0m \u001b[1;33m[\u001b[0m\u001b[1;34m'address_name'\u001b[0m\u001b[1;33m,\u001b[0m \u001b[1;34m'lat'\u001b[0m\u001b[1;33m,\u001b[0m \u001b[1;34m'lon'\u001b[0m\u001b[1;33m]\u001b[0m\u001b[1;33m)\u001b[0m\u001b[1;33m\u001b[0m\u001b[1;33m\u001b[0m\u001b[0m\n",
      "\u001b[1;32m<ipython-input-16-d9764c426bbe>\u001b[0m in \u001b[0;36maddress_to_latlon\u001b[1;34m(address)\u001b[0m\n\u001b[0;32m      6\u001b[0m     \u001b[1;32mfor\u001b[0m \u001b[0mdocument\u001b[0m \u001b[1;32min\u001b[0m \u001b[0mjson_obj\u001b[0m\u001b[1;33m[\u001b[0m\u001b[1;34m'documents'\u001b[0m\u001b[1;33m]\u001b[0m\u001b[1;33m:\u001b[0m\u001b[1;33m\u001b[0m\u001b[1;33m\u001b[0m\u001b[0m\n\u001b[0;32m      7\u001b[0m         \u001b[0mval\u001b[0m \u001b[1;33m=\u001b[0m \u001b[1;33m[\u001b[0m\u001b[0mdocument\u001b[0m\u001b[1;33m[\u001b[0m\u001b[1;34m'address_name'\u001b[0m\u001b[1;33m]\u001b[0m\u001b[1;33m,\u001b[0m \u001b[0mdocument\u001b[0m\u001b[1;33m[\u001b[0m\u001b[1;34m'y'\u001b[0m\u001b[1;33m]\u001b[0m\u001b[1;33m,\u001b[0m\u001b[0mdocument\u001b[0m\u001b[1;33m[\u001b[0m\u001b[1;34m'x'\u001b[0m\u001b[1;33m]\u001b[0m\u001b[1;33m]\u001b[0m\u001b[1;33m\u001b[0m\u001b[1;33m\u001b[0m\u001b[0m\n\u001b[1;32m----> 8\u001b[1;33m     \u001b[1;32mreturn\u001b[0m \u001b[0mval\u001b[0m\u001b[1;33m\u001b[0m\u001b[1;33m\u001b[0m\u001b[0m\n\u001b[0m\u001b[0;32m      9\u001b[0m \u001b[1;33m\u001b[0m\u001b[0m\n\u001b[0;32m     10\u001b[0m \u001b[1;31m#위의 두 녀석들을 합쳐 address가 입력되면 address_name, y, x를 반환하는 함수로 만들자.\u001b[0m\u001b[1;33m\u001b[0m\u001b[1;33m\u001b[0m\u001b[1;33m\u001b[0m\u001b[0m\n",
      "\u001b[1;31mUnboundLocalError\u001b[0m: local variable 'val' referenced before assignment"
     ]
    }
   ],
   "source": [
    "list = []\n",
    "for address in df['location']:\n",
    "    list.append(address_to_latlon(address))\n",
    "    \n",
    "df1 = pd.DataFrame(list, columns = ['address_name', 'lat', 'lon'])\n",
    "df1\n",
    "# 받아온 엑셀파일(df) 속 '주소' column들을 for문으로 함수에 쏙쏙."
   ]
  },
  {
   "cell_type": "markdown",
   "metadata": {},
   "source": [
    "위의 함수를 통해 카카오맵 Documents에 요청할 수 있게 되었다.<br>\n",
    "하지만 이 역시 Documents내에 해당 정보가 있을 때, 즉 입력한 값이 주소명일 때만 사용이 가능했다.<br>\n",
    "따라서 카카오맵에서 가게명을 검색해 -> 주소를 받아온 후 -> 이를 다시 위도경도 변환 함수에 넣어줘야만 한다."
   ]
  },
  {
   "cell_type": "code",
   "execution_count": 97,
   "metadata": {},
   "outputs": [],
   "source": [
    "df1.to_excel('.~401.xlsx', sheet_name='1', index=False, header=False)\n",
    "# to_excel함수를 통해 데이터프레임을 엑셀 파일로 저장한다.\n",
    "# 이 때 함수에는 경로 및 파일이름 , 생성할 시트 이름 , index와 column값(False를 해두면 설정이 안된다)이 들어가야한다."
   ]
  }
 ],
 "metadata": {
  "kernelspec": {
   "display_name": "Python 3",
   "language": "python",
   "name": "python3"
  },
  "language_info": {
   "codemirror_mode": {
    "name": "ipython",
    "version": 3
   },
   "file_extension": ".py",
   "mimetype": "text/x-python",
   "name": "python",
   "nbconvert_exporter": "python",
   "pygments_lexer": "ipython3",
   "version": "3.8.5"
  }
 },
 "nbformat": 4,
 "nbformat_minor": 4
}
